{
 "cells": [
  {
   "cell_type": "markdown",
   "id": "501163a8",
   "metadata": {},
   "source": [
    "# SALES ESTIMATION MODEL \n"
   ]
  },
  {
   "cell_type": "code",
   "execution_count": 51,
   "id": "c359d558",
   "metadata": {},
   "outputs": [
    {
     "data": {
      "text/html": [
       "<div>\n",
       "<style scoped>\n",
       "    .dataframe tbody tr th:only-of-type {\n",
       "        vertical-align: middle;\n",
       "    }\n",
       "\n",
       "    .dataframe tbody tr th {\n",
       "        vertical-align: top;\n",
       "    }\n",
       "\n",
       "    .dataframe thead th {\n",
       "        text-align: right;\n",
       "    }\n",
       "</style>\n",
       "<table border=\"1\" class=\"dataframe\">\n",
       "  <thead>\n",
       "    <tr style=\"text-align: right;\">\n",
       "      <th></th>\n",
       "      <th>Item_Identifier</th>\n",
       "      <th>Item_Weight</th>\n",
       "      <th>Item_Fat_Content</th>\n",
       "      <th>Item_Visibility</th>\n",
       "      <th>Item_Type</th>\n",
       "      <th>Item_MRP</th>\n",
       "      <th>Outlet_Identifier</th>\n",
       "      <th>Outlet_Establishment_Year</th>\n",
       "      <th>Outlet_Size</th>\n",
       "      <th>Outlet_Location_Type</th>\n",
       "      <th>Outlet_Type</th>\n",
       "      <th>Item_Outlet_Sales</th>\n",
       "    </tr>\n",
       "  </thead>\n",
       "  <tbody>\n",
       "    <tr>\n",
       "      <th>0</th>\n",
       "      <td>FDA15</td>\n",
       "      <td>9.30</td>\n",
       "      <td>Low Fat</td>\n",
       "      <td>0.016047</td>\n",
       "      <td>Dairy</td>\n",
       "      <td>249.8092</td>\n",
       "      <td>OUT049</td>\n",
       "      <td>1999</td>\n",
       "      <td>Medium</td>\n",
       "      <td>Tier 1</td>\n",
       "      <td>Supermarket Type1</td>\n",
       "      <td>3735.1380</td>\n",
       "    </tr>\n",
       "    <tr>\n",
       "      <th>1</th>\n",
       "      <td>DRC01</td>\n",
       "      <td>5.92</td>\n",
       "      <td>Regular</td>\n",
       "      <td>0.019278</td>\n",
       "      <td>Soft Drinks</td>\n",
       "      <td>48.2692</td>\n",
       "      <td>OUT018</td>\n",
       "      <td>2009</td>\n",
       "      <td>Medium</td>\n",
       "      <td>Tier 3</td>\n",
       "      <td>Supermarket Type2</td>\n",
       "      <td>443.4228</td>\n",
       "    </tr>\n",
       "    <tr>\n",
       "      <th>2</th>\n",
       "      <td>FDN15</td>\n",
       "      <td>17.50</td>\n",
       "      <td>Low Fat</td>\n",
       "      <td>0.016760</td>\n",
       "      <td>Meat</td>\n",
       "      <td>141.6180</td>\n",
       "      <td>OUT049</td>\n",
       "      <td>1999</td>\n",
       "      <td>Medium</td>\n",
       "      <td>Tier 1</td>\n",
       "      <td>Supermarket Type1</td>\n",
       "      <td>2097.2700</td>\n",
       "    </tr>\n",
       "    <tr>\n",
       "      <th>3</th>\n",
       "      <td>FDX07</td>\n",
       "      <td>19.20</td>\n",
       "      <td>Regular</td>\n",
       "      <td>0.000000</td>\n",
       "      <td>Fruits and Vegetables</td>\n",
       "      <td>182.0950</td>\n",
       "      <td>OUT010</td>\n",
       "      <td>1998</td>\n",
       "      <td>NaN</td>\n",
       "      <td>Tier 3</td>\n",
       "      <td>Grocery Store</td>\n",
       "      <td>732.3800</td>\n",
       "    </tr>\n",
       "    <tr>\n",
       "      <th>4</th>\n",
       "      <td>NCD19</td>\n",
       "      <td>8.93</td>\n",
       "      <td>Low Fat</td>\n",
       "      <td>0.000000</td>\n",
       "      <td>Household</td>\n",
       "      <td>53.8614</td>\n",
       "      <td>OUT013</td>\n",
       "      <td>1987</td>\n",
       "      <td>High</td>\n",
       "      <td>Tier 3</td>\n",
       "      <td>Supermarket Type1</td>\n",
       "      <td>994.7052</td>\n",
       "    </tr>\n",
       "  </tbody>\n",
       "</table>\n",
       "</div>"
      ],
      "text/plain": [
       "  Item_Identifier  Item_Weight Item_Fat_Content  Item_Visibility  \\\n",
       "0           FDA15         9.30          Low Fat         0.016047   \n",
       "1           DRC01         5.92          Regular         0.019278   \n",
       "2           FDN15        17.50          Low Fat         0.016760   \n",
       "3           FDX07        19.20          Regular         0.000000   \n",
       "4           NCD19         8.93          Low Fat         0.000000   \n",
       "\n",
       "               Item_Type  Item_MRP Outlet_Identifier  \\\n",
       "0                  Dairy  249.8092            OUT049   \n",
       "1            Soft Drinks   48.2692            OUT018   \n",
       "2                   Meat  141.6180            OUT049   \n",
       "3  Fruits and Vegetables  182.0950            OUT010   \n",
       "4              Household   53.8614            OUT013   \n",
       "\n",
       "   Outlet_Establishment_Year Outlet_Size Outlet_Location_Type  \\\n",
       "0                       1999      Medium               Tier 1   \n",
       "1                       2009      Medium               Tier 3   \n",
       "2                       1999      Medium               Tier 1   \n",
       "3                       1998         NaN               Tier 3   \n",
       "4                       1987        High               Tier 3   \n",
       "\n",
       "         Outlet_Type  Item_Outlet_Sales  \n",
       "0  Supermarket Type1          3735.1380  \n",
       "1  Supermarket Type2           443.4228  \n",
       "2  Supermarket Type1          2097.2700  \n",
       "3      Grocery Store           732.3800  \n",
       "4  Supermarket Type1           994.7052  "
      ]
     },
     "execution_count": 51,
     "metadata": {},
     "output_type": "execute_result"
    }
   ],
   "source": [
    "import pandas as pd\n",
    "import numpy as np\n",
    "import matplotlib.pyplot as plt\n",
    "%matplotlib inline\n",
    "data=pd.read_csv(r\"D:\\NIT KKR - Aaryav\\python\\Linear_E3\\E3\\linear reg\\train.csv\")\n",
    "data.head()"
   ]
  },
  {
   "cell_type": "code",
   "execution_count": 52,
   "id": "9a8e8fa7",
   "metadata": {},
   "outputs": [],
   "source": [
    "data=pd.get_dummies(data)"
   ]
  },
  {
   "cell_type": "code",
   "execution_count": 53,
   "id": "d1b4acef",
   "metadata": {},
   "outputs": [
    {
     "data": {
      "text/plain": [
       "(8523, 1605)"
      ]
     },
     "execution_count": 53,
     "metadata": {},
     "output_type": "execute_result"
    }
   ],
   "source": [
    "data.shape"
   ]
  },
  {
   "cell_type": "code",
   "execution_count": 54,
   "id": "3d1e1ca4",
   "metadata": {},
   "outputs": [
    {
     "data": {
      "text/html": [
       "<div>\n",
       "<style scoped>\n",
       "    .dataframe tbody tr th:only-of-type {\n",
       "        vertical-align: middle;\n",
       "    }\n",
       "\n",
       "    .dataframe tbody tr th {\n",
       "        vertical-align: top;\n",
       "    }\n",
       "\n",
       "    .dataframe thead th {\n",
       "        text-align: right;\n",
       "    }\n",
       "</style>\n",
       "<table border=\"1\" class=\"dataframe\">\n",
       "  <thead>\n",
       "    <tr style=\"text-align: right;\">\n",
       "      <th></th>\n",
       "      <th>Item_Weight</th>\n",
       "      <th>Item_Visibility</th>\n",
       "      <th>Item_MRP</th>\n",
       "      <th>Outlet_Establishment_Year</th>\n",
       "      <th>Item_Outlet_Sales</th>\n",
       "      <th>Item_Identifier_DRA12</th>\n",
       "      <th>Item_Identifier_DRA24</th>\n",
       "      <th>Item_Identifier_DRA59</th>\n",
       "      <th>Item_Identifier_DRB01</th>\n",
       "      <th>Item_Identifier_DRB13</th>\n",
       "      <th>...</th>\n",
       "      <th>Outlet_Size_High</th>\n",
       "      <th>Outlet_Size_Medium</th>\n",
       "      <th>Outlet_Size_Small</th>\n",
       "      <th>Outlet_Location_Type_Tier 1</th>\n",
       "      <th>Outlet_Location_Type_Tier 2</th>\n",
       "      <th>Outlet_Location_Type_Tier 3</th>\n",
       "      <th>Outlet_Type_Grocery Store</th>\n",
       "      <th>Outlet_Type_Supermarket Type1</th>\n",
       "      <th>Outlet_Type_Supermarket Type2</th>\n",
       "      <th>Outlet_Type_Supermarket Type3</th>\n",
       "    </tr>\n",
       "  </thead>\n",
       "  <tbody>\n",
       "    <tr>\n",
       "      <th>8000</th>\n",
       "      <td>7.02</td>\n",
       "      <td>0.081329</td>\n",
       "      <td>150.0734</td>\n",
       "      <td>2002</td>\n",
       "      <td>4454.2020</td>\n",
       "      <td>0</td>\n",
       "      <td>0</td>\n",
       "      <td>0</td>\n",
       "      <td>0</td>\n",
       "      <td>0</td>\n",
       "      <td>...</td>\n",
       "      <td>0</td>\n",
       "      <td>0</td>\n",
       "      <td>0</td>\n",
       "      <td>0</td>\n",
       "      <td>1</td>\n",
       "      <td>0</td>\n",
       "      <td>0</td>\n",
       "      <td>1</td>\n",
       "      <td>0</td>\n",
       "      <td>0</td>\n",
       "    </tr>\n",
       "    <tr>\n",
       "      <th>8001</th>\n",
       "      <td>7.42</td>\n",
       "      <td>0.020388</td>\n",
       "      <td>247.1092</td>\n",
       "      <td>2004</td>\n",
       "      <td>4233.1564</td>\n",
       "      <td>0</td>\n",
       "      <td>0</td>\n",
       "      <td>0</td>\n",
       "      <td>0</td>\n",
       "      <td>0</td>\n",
       "      <td>...</td>\n",
       "      <td>0</td>\n",
       "      <td>0</td>\n",
       "      <td>1</td>\n",
       "      <td>0</td>\n",
       "      <td>1</td>\n",
       "      <td>0</td>\n",
       "      <td>0</td>\n",
       "      <td>1</td>\n",
       "      <td>0</td>\n",
       "      <td>0</td>\n",
       "    </tr>\n",
       "    <tr>\n",
       "      <th>8002</th>\n",
       "      <td>17.25</td>\n",
       "      <td>0.113518</td>\n",
       "      <td>253.5724</td>\n",
       "      <td>1997</td>\n",
       "      <td>5033.4480</td>\n",
       "      <td>0</td>\n",
       "      <td>0</td>\n",
       "      <td>0</td>\n",
       "      <td>0</td>\n",
       "      <td>0</td>\n",
       "      <td>...</td>\n",
       "      <td>0</td>\n",
       "      <td>0</td>\n",
       "      <td>1</td>\n",
       "      <td>1</td>\n",
       "      <td>0</td>\n",
       "      <td>0</td>\n",
       "      <td>0</td>\n",
       "      <td>1</td>\n",
       "      <td>0</td>\n",
       "      <td>0</td>\n",
       "    </tr>\n",
       "    <tr>\n",
       "      <th>8003</th>\n",
       "      <td>18.75</td>\n",
       "      <td>0.052917</td>\n",
       "      <td>190.6504</td>\n",
       "      <td>2002</td>\n",
       "      <td>1342.2528</td>\n",
       "      <td>0</td>\n",
       "      <td>0</td>\n",
       "      <td>0</td>\n",
       "      <td>0</td>\n",
       "      <td>0</td>\n",
       "      <td>...</td>\n",
       "      <td>0</td>\n",
       "      <td>0</td>\n",
       "      <td>0</td>\n",
       "      <td>0</td>\n",
       "      <td>1</td>\n",
       "      <td>0</td>\n",
       "      <td>0</td>\n",
       "      <td>1</td>\n",
       "      <td>0</td>\n",
       "      <td>0</td>\n",
       "    </tr>\n",
       "    <tr>\n",
       "      <th>8004</th>\n",
       "      <td>20.25</td>\n",
       "      <td>0.018911</td>\n",
       "      <td>220.5772</td>\n",
       "      <td>2007</td>\n",
       "      <td>2446.1492</td>\n",
       "      <td>0</td>\n",
       "      <td>0</td>\n",
       "      <td>0</td>\n",
       "      <td>0</td>\n",
       "      <td>0</td>\n",
       "      <td>...</td>\n",
       "      <td>0</td>\n",
       "      <td>0</td>\n",
       "      <td>0</td>\n",
       "      <td>0</td>\n",
       "      <td>1</td>\n",
       "      <td>0</td>\n",
       "      <td>0</td>\n",
       "      <td>1</td>\n",
       "      <td>0</td>\n",
       "      <td>0</td>\n",
       "    </tr>\n",
       "  </tbody>\n",
       "</table>\n",
       "<p>5 rows × 1605 columns</p>\n",
       "</div>"
      ],
      "text/plain": [
       "      Item_Weight  Item_Visibility  Item_MRP  Outlet_Establishment_Year  \\\n",
       "8000         7.02         0.081329  150.0734                       2002   \n",
       "8001         7.42         0.020388  247.1092                       2004   \n",
       "8002        17.25         0.113518  253.5724                       1997   \n",
       "8003        18.75         0.052917  190.6504                       2002   \n",
       "8004        20.25         0.018911  220.5772                       2007   \n",
       "\n",
       "      Item_Outlet_Sales  Item_Identifier_DRA12  Item_Identifier_DRA24  \\\n",
       "8000          4454.2020                      0                      0   \n",
       "8001          4233.1564                      0                      0   \n",
       "8002          5033.4480                      0                      0   \n",
       "8003          1342.2528                      0                      0   \n",
       "8004          2446.1492                      0                      0   \n",
       "\n",
       "      Item_Identifier_DRA59  Item_Identifier_DRB01  Item_Identifier_DRB13  \\\n",
       "8000                      0                      0                      0   \n",
       "8001                      0                      0                      0   \n",
       "8002                      0                      0                      0   \n",
       "8003                      0                      0                      0   \n",
       "8004                      0                      0                      0   \n",
       "\n",
       "      ...  Outlet_Size_High  Outlet_Size_Medium  Outlet_Size_Small  \\\n",
       "8000  ...                 0                   0                  0   \n",
       "8001  ...                 0                   0                  1   \n",
       "8002  ...                 0                   0                  1   \n",
       "8003  ...                 0                   0                  0   \n",
       "8004  ...                 0                   0                  0   \n",
       "\n",
       "      Outlet_Location_Type_Tier 1  Outlet_Location_Type_Tier 2  \\\n",
       "8000                            0                            1   \n",
       "8001                            0                            1   \n",
       "8002                            1                            0   \n",
       "8003                            0                            1   \n",
       "8004                            0                            1   \n",
       "\n",
       "      Outlet_Location_Type_Tier 3  Outlet_Type_Grocery Store  \\\n",
       "8000                            0                          0   \n",
       "8001                            0                          0   \n",
       "8002                            0                          0   \n",
       "8003                            0                          0   \n",
       "8004                            0                          0   \n",
       "\n",
       "      Outlet_Type_Supermarket Type1  Outlet_Type_Supermarket Type2  \\\n",
       "8000                              1                              0   \n",
       "8001                              1                              0   \n",
       "8002                              1                              0   \n",
       "8003                              1                              0   \n",
       "8004                              1                              0   \n",
       "\n",
       "      Outlet_Type_Supermarket Type3  \n",
       "8000                              0  \n",
       "8001                              0  \n",
       "8002                              0  \n",
       "8003                              0  \n",
       "8004                              0  \n",
       "\n",
       "[5 rows x 1605 columns]"
      ]
     },
     "execution_count": 54,
     "metadata": {},
     "output_type": "execute_result"
    }
   ],
   "source": [
    "train=data[0:7999]      #separating test and train data set\n",
    "test=data[8000:]\n",
    "test.head()"
   ]
  },
  {
   "cell_type": "code",
   "execution_count": 55,
   "id": "23f9c9cf",
   "metadata": {},
   "outputs": [],
   "source": [
    "x_train=train.drop('Item_Outlet_Sales',axis=1)    #separating independent and dependent variable\n"
   ]
  },
  {
   "cell_type": "code",
   "execution_count": 56,
   "id": "dcc192c3",
   "metadata": {},
   "outputs": [],
   "source": [
    "y_train=train['Item_Outlet_Sales']"
   ]
  },
  {
   "cell_type": "code",
   "execution_count": 57,
   "id": "99c21898",
   "metadata": {},
   "outputs": [],
   "source": [
    "x_test=test.drop('Item_Outlet_Sales',axis=1)"
   ]
  },
  {
   "cell_type": "code",
   "execution_count": 58,
   "id": "ec73fcfa",
   "metadata": {},
   "outputs": [],
   "source": [
    "true_p=test['Item_Outlet_Sales']"
   ]
  },
  {
   "cell_type": "code",
   "execution_count": 59,
   "id": "e4c33866",
   "metadata": {},
   "outputs": [],
   "source": [
    "from sklearn.linear_model import LinearRegression\n"
   ]
  },
  {
   "cell_type": "code",
   "execution_count": 60,
   "id": "c9c03401",
   "metadata": {},
   "outputs": [],
   "source": [
    "lreg=LinearRegression()"
   ]
  },
  {
   "cell_type": "code",
   "execution_count": 61,
   "id": "5703909e",
   "metadata": {},
   "outputs": [],
   "source": [
    "x_train=pd.get_dummies(x_train)"
   ]
  },
  {
   "cell_type": "code",
   "execution_count": 62,
   "id": "f483356f",
   "metadata": {},
   "outputs": [
    {
     "data": {
      "text/plain": [
       "(7999, 1604)"
      ]
     },
     "execution_count": 62,
     "metadata": {},
     "output_type": "execute_result"
    }
   ],
   "source": [
    "x_train.shape"
   ]
  },
  {
   "cell_type": "code",
   "execution_count": 63,
   "id": "52b1631d",
   "metadata": {},
   "outputs": [],
   "source": [
    "x_test=pd.get_dummies(x_test)"
   ]
  },
  {
   "cell_type": "code",
   "execution_count": 64,
   "id": "9404a313",
   "metadata": {},
   "outputs": [],
   "source": [
    "x_train.fillna(0,inplace=True)"
   ]
  },
  {
   "cell_type": "code",
   "execution_count": 65,
   "id": "4799312b",
   "metadata": {},
   "outputs": [],
   "source": [
    "x_test.fillna(0,inplace=True)"
   ]
  },
  {
   "cell_type": "code",
   "execution_count": 66,
   "id": "9ee9c4c4",
   "metadata": {},
   "outputs": [
    {
     "data": {
      "text/plain": [
       "LinearRegression()"
      ]
     },
     "execution_count": 66,
     "metadata": {},
     "output_type": "execute_result"
    }
   ],
   "source": [
    "lreg.fit(x_train,y_train)"
   ]
  },
  {
   "cell_type": "code",
   "execution_count": 69,
   "id": "2b8a2373",
   "metadata": {},
   "outputs": [
    {
     "data": {
      "text/plain": [
       "array([ 2.41048438e+03,  3.88539062e+03,  3.84831250e+03,  2.06956250e+03,\n",
       "        4.75821875e+03,  2.99301562e+03,  1.88032812e+03,  2.50893750e+03,\n",
       "        3.52323438e+03,  5.33640625e+03,  4.86768750e+03,  1.09850000e+03,\n",
       "        4.14078125e+03,  9.34406250e+02,  1.68443750e+03,  9.37062500e+02,\n",
       "        5.47984375e+02,  9.30687500e+02,  3.47803125e+03,  2.22796875e+03,\n",
       "        1.97962500e+03,  2.18417188e+03,  3.80884375e+03,  5.37292188e+03,\n",
       "        1.22070312e+03, -8.60906250e+02,  2.55820312e+03,  2.56368750e+03,\n",
       "        5.03423438e+03,  4.20782812e+03,  6.31500000e+02,  3.03000000e+02,\n",
       "        1.03418750e+03,  1.53704688e+03,  1.45196875e+03,  2.63215625e+03,\n",
       "        2.90765625e+03,  1.39685938e+03,  6.19500000e+02,  4.81773438e+03,\n",
       "        2.93456250e+03,  1.06428125e+03,  3.66098438e+03,  2.41281250e+02,\n",
       "        3.44696875e+03,  1.88310938e+03,  3.14800000e+03,  2.58987500e+03,\n",
       "        7.98078125e+02,  6.27093750e+02,  5.48909375e+03,  2.34239062e+03,\n",
       "        2.47412500e+03,  2.26268750e+03,  1.15281250e+02,  2.93825000e+03,\n",
       "        2.45782812e+03,  1.60148438e+03,  7.84218750e+02,  3.79831250e+03,\n",
       "        1.99906250e+02,  2.84032812e+03,  2.48745312e+03, -4.34921875e+02,\n",
       "        4.87107812e+03,  2.57650000e+03,  2.71065625e+03,  2.96464062e+03,\n",
       "        2.10496875e+03,  2.60459375e+03,  2.01020312e+03,  2.05110938e+03,\n",
       "        3.35428125e+03,  2.11810938e+03,  2.79651562e+03,  2.89015625e+03,\n",
       "        2.27478125e+03,  1.87310938e+03,  3.08576562e+03,  2.46675000e+03,\n",
       "        2.63434375e+03,  1.70565625e+03,  2.05043750e+03,  2.95887500e+03,\n",
       "        2.86798438e+03,  1.82909375e+03,  4.25093750e+03,  3.89742188e+03,\n",
       "        1.83540625e+03,  3.17921875e+03, -7.44015625e+02,  7.18515625e+02,\n",
       "        1.45214062e+03,  1.06246875e+03, -5.07156250e+02,  3.02101562e+03,\n",
       "        1.17114062e+03,  8.63953125e+02,  4.29875000e+03,  4.49657812e+03,\n",
       "        3.01201562e+03,  4.95946875e+03,  2.93534375e+03,  4.31250000e+00,\n",
       "        2.33300000e+03,  1.74806250e+03,  7.94843750e+02,  5.63078125e+02,\n",
       "        1.51129688e+03,  3.41451562e+03, -9.90406250e+02,  9.89796875e+02,\n",
       "        1.51195312e+03,  2.56037500e+03,  1.32796875e+03,  9.59781250e+02,\n",
       "       -1.14896875e+03,  4.09342188e+03,  9.33703125e+02,  1.73406250e+03,\n",
       "        2.41621875e+03,  3.51328125e+02,  1.48339062e+03,  3.24368750e+03,\n",
       "        1.09359375e+03,  4.76343750e+03,  2.38298438e+03,  3.82725000e+03,\n",
       "        3.77340625e+03,  2.63620312e+03,  1.55593750e+03,  4.37273438e+03,\n",
       "        2.18962500e+03,  6.20234375e+02,  1.07465625e+03,  5.70031250e+02,\n",
       "        4.25196875e+03,  2.28401562e+03,  2.81989062e+03,  1.87960938e+03,\n",
       "        8.39843750e+02,  6.57593750e+02,  3.02675000e+03,  1.46529688e+03,\n",
       "        4.01478125e+03,  2.39092188e+03,  4.76240625e+03,  3.27759375e+03,\n",
       "        3.69818750e+03,  2.11206250e+03,  1.15775000e+03,  1.88146875e+03,\n",
       "       -9.03125000e+02,  3.94307812e+03,  4.27065625e+03,  4.93078125e+02,\n",
       "        1.14865625e+03,  2.58895312e+03,  2.14620312e+03,  2.06862500e+03,\n",
       "        2.75340625e+03,  3.77146875e+03,  8.88296875e+02,  4.73615625e+03,\n",
       "        2.90303125e+03,  5.41584375e+03,  4.97500000e+02,  2.55817188e+03,\n",
       "        1.13285938e+03,  2.67393750e+03,  4.94148438e+03,  1.98518750e+03,\n",
       "        3.84529688e+03,  1.27128125e+03,  3.30576562e+03,  4.55803125e+03,\n",
       "        1.62992188e+03,  6.01112500e+03,  5.07704688e+03,  1.20275000e+03,\n",
       "        2.67514062e+03,  2.84378125e+03,  2.03175000e+03,  1.47068750e+03,\n",
       "        3.85831250e+03,  1.94300000e+03,  3.71225000e+03,  1.46250000e+03,\n",
       "        1.94793750e+03,  1.15635938e+03,  2.93556250e+03,  1.22145312e+03,\n",
       "        2.19085938e+03,  2.20496875e+03,  2.48046875e+02,  2.23215625e+03,\n",
       "        2.64314062e+03,  1.56493750e+03,  5.72371875e+03,  5.17364062e+03,\n",
       "        3.12048438e+03,  5.05982812e+03,  1.44035938e+03,  2.01078125e+03,\n",
       "        4.72515625e+02,  1.17154688e+03,  5.93578125e+02,  2.90023438e+03,\n",
       "        4.37856250e+03,  1.51487500e+03,  4.97467188e+03,  1.98770312e+03,\n",
       "        2.97468750e+03,  1.58187500e+03,  2.19650000e+03,  1.90878125e+03,\n",
       "        2.73545312e+03,  3.33417188e+03,  1.77973438e+03,  1.53628125e+03,\n",
       "        1.98187500e+03,  1.84750000e+03,  3.46168750e+03,  1.28164062e+03,\n",
       "        4.49853125e+03,  2.31778125e+03,  3.06234375e+02,  6.50312500e+02,\n",
       "        1.38201562e+03,  2.68414062e+03,  3.61484375e+02,  3.34467188e+03,\n",
       "        2.95340625e+03,  1.95109375e+03, -6.37031250e+01,  5.73515625e+02,\n",
       "        2.60584375e+03, -1.15859375e+02,  1.45125000e+03, -1.94714062e+03,\n",
       "        1.20654688e+03, -1.21181250e+03,  1.69535938e+03,  3.74804688e+03,\n",
       "        5.45167188e+03,  5.07832812e+03,  1.77359375e+03,  1.47559375e+03,\n",
       "        3.32609375e+02,  4.23007812e+03,  2.18825000e+03,  5.61978125e+03,\n",
       "        3.36993750e+03,  1.04040625e+03,  2.06848438e+03,  2.06496875e+03,\n",
       "        1.74350000e+03,  1.85771875e+03,  1.46201562e+03,  9.68062500e+02,\n",
       "        1.12485938e+03,  2.72928125e+03,  2.01762500e+03,  3.39962500e+03,\n",
       "        3.70662500e+03,  2.60496875e+03,  7.14000000e+02,  3.41964062e+03,\n",
       "        1.05835938e+03, -9.68718750e+02,  2.33428125e+03,  2.30657812e+03,\n",
       "        1.77456250e+03,  8.93171875e+02,  3.78631250e+03,  1.62560938e+03,\n",
       "        1.32635938e+03,  6.88765625e+02,  3.42378125e+03,  3.08789062e+03,\n",
       "        3.13873438e+03,  4.53868750e+03,  2.44978125e+03,  1.47810938e+03,\n",
       "        4.59218750e+01,  2.27381250e+03,  1.70934375e+03,  6.99343750e+02,\n",
       "        3.07375000e+02,  1.64128125e+03,  8.18078125e+02,  4.21468750e+02,\n",
       "        1.46471875e+03,  1.30214062e+03,  1.47089062e+03,  3.65360938e+03,\n",
       "       -8.98953125e+02,  1.72268750e+03,  1.32203125e+03,  2.33809375e+03,\n",
       "        1.30248438e+03,  4.20351562e+03,  1.46121875e+03,  3.88121875e+03,\n",
       "        3.78118750e+03,  3.21265625e+03,  1.62918750e+03,  9.62390625e+02,\n",
       "        4.20125000e+03,  2.45678125e+03,  2.26260938e+03,  2.23596875e+03,\n",
       "        5.07587500e+03,  2.33662500e+03,  9.76187500e+02,  2.23100000e+03,\n",
       "        1.34714062e+03,  1.31410938e+03,  1.27632812e+03,  4.00956250e+03,\n",
       "        2.78706250e+03,  3.85737500e+03,  5.88643750e+03,  2.13507812e+03,\n",
       "        1.90235938e+03,  7.34531250e+02,  2.87531250e+03,  2.98278125e+03,\n",
       "        3.28187500e+03,  5.21946875e+03,  1.26939062e+03,  4.71801562e+03,\n",
       "        7.96437500e+02,  1.57743750e+03,  1.48585938e+03,  1.07967188e+03,\n",
       "        1.34546875e+02,  8.88218750e+02,  1.75250000e+03,  2.26512500e+03,\n",
       "        2.74990625e+03,  1.55376562e+03,  4.01868750e+03,  1.88125000e+03,\n",
       "        3.99573438e+03,  2.07584375e+03,  2.63209375e+03,  1.54312500e+03,\n",
       "        9.82281250e+02,  3.38898438e+03,  3.82968750e+03,  4.27326562e+03,\n",
       "        6.32250000e+02,  1.27853125e+03,  2.79693750e+03,  2.37587500e+03,\n",
       "        4.74187500e+03,  2.12300000e+03, -1.92156250e+02,  3.62500000e+00,\n",
       "        3.85775000e+03,  2.95451562e+03,  4.39231250e+03,  2.83279688e+03,\n",
       "        1.95971875e+03,  2.51984375e+02,  6.60843750e+02,  1.23956250e+03,\n",
       "        2.55629688e+03,  2.30140625e+03,  2.68375000e+03,  1.06617188e+03,\n",
       "        2.64231250e+03,  2.72992188e+03,  7.67750000e+02,  3.49392188e+03,\n",
       "        4.91473438e+03,  2.42296875e+03,  1.84434375e+03,  3.05959375e+03,\n",
       "        4.04968750e+03,  3.20512500e+03,  2.07800000e+03,  5.09656250e+03,\n",
       "        8.29625000e+02,  1.67057812e+03,  8.88906250e+02,  1.06929688e+03,\n",
       "        1.93659375e+03,  1.73093750e+03,  7.67234375e+02,  1.78975000e+03,\n",
       "        1.66932812e+03,  4.37828125e+02,  1.82371875e+03,  2.46268750e+03,\n",
       "        1.17243750e+03,  7.91187500e+02,  1.41693750e+03, -9.51609375e+02,\n",
       "       -3.38718750e+02,  1.52489062e+03,  2.13332812e+03,  4.56085938e+03,\n",
       "       -3.61375000e+02, -5.68500000e+02,  1.50895312e+03,  2.76976562e+03,\n",
       "        4.75459375e+03,  2.60793750e+03,  3.66687500e+03,  3.43153125e+03,\n",
       "        3.03671875e+03,  1.59095312e+03,  1.77842188e+03,  2.40618750e+03,\n",
       "        9.57312500e+02,  8.23500000e+02,  8.80781250e+02,  2.40087500e+03,\n",
       "        1.40957812e+03,  2.23606250e+03,  2.11242188e+03,  3.51076562e+03,\n",
       "        3.62668750e+03,  2.24418750e+03,  2.98657812e+03,  1.19646875e+03,\n",
       "        2.57412500e+03,  2.94378125e+03,  2.31773438e+03,  9.65828125e+02,\n",
       "       -1.02662500e+03,  2.67571875e+03,  2.34743750e+03,  5.02118750e+03,\n",
       "        9.22046875e+02,  1.89175000e+03,  2.20129688e+03,  1.87695312e+03,\n",
       "        1.72317188e+03,  2.06089062e+03, -9.98640625e+02,  1.73150000e+03,\n",
       "        3.31670312e+03,  3.19046875e+02,  9.01656250e+02,  4.01187500e+03,\n",
       "        1.26353125e+03,  8.83125000e+01,  1.36012500e+03,  4.34504688e+03,\n",
       "        2.25903125e+03,  4.28150000e+03,  4.90531250e+02,  2.97298438e+03,\n",
       "        1.72551562e+03,  1.86818750e+03,  1.51440625e+03,  1.67889062e+03,\n",
       "        2.35601562e+03,  3.37065625e+03,  1.09831250e+03,  1.94962500e+03,\n",
       "        1.96179688e+03,  3.14815625e+03,  3.21203125e+02,  1.35939062e+03,\n",
       "        8.77703125e+02,  9.85234375e+02,  2.28240625e+03,  1.78715625e+03,\n",
       "        3.77987500e+03,  6.60343750e+02,  1.33262500e+03,  2.31328125e+03,\n",
       "        1.81865625e+03,  3.30581250e+03,  2.13562500e+03,  1.40490625e+03,\n",
       "        2.40593750e+02,  9.66093750e+02,  1.96001562e+03,  1.71339062e+03,\n",
       "        2.03628125e+03,  5.33301562e+03, -1.16021875e+03,  5.18378125e+03,\n",
       "        4.01367188e+03,  9.48156250e+02,  1.00918750e+03,  3.31071875e+03,\n",
       "        1.52493750e+03,  3.57542188e+03,  1.92232812e+03,  2.25178125e+03,\n",
       "        3.91871875e+03,  2.51148438e+03,  1.94460938e+03,  2.08937500e+03,\n",
       "        2.42760938e+03,  1.50775000e+03,  1.65656250e+03,  2.43560938e+03,\n",
       "        4.09718750e+03,  4.05414062e+03,  2.91440625e+03,  1.59471875e+03,\n",
       "        2.06825000e+03,  2.97445312e+03,  4.70901562e+03,  4.08040625e+03,\n",
       "        2.01365625e+03,  1.62360938e+03,  1.10632812e+03,  2.30220312e+03,\n",
       "        1.23481250e+03,  3.39482812e+03,  3.75718750e+03,  2.90103125e+03,\n",
       "        1.10303125e+03,  1.76251562e+03,  1.40132812e+03])"
      ]
     },
     "execution_count": 69,
     "metadata": {},
     "output_type": "execute_result"
    }
   ],
   "source": [
    "pred=lreg.predict(x_test)\n",
    "pred"
   ]
  },
  {
   "cell_type": "code",
   "execution_count": 70,
   "id": "4eab2a66",
   "metadata": {},
   "outputs": [
    {
     "data": {
      "text/plain": [
       "0.40232897864885886"
      ]
     },
     "execution_count": 70,
     "metadata": {},
     "output_type": "execute_result"
    }
   ],
   "source": [
    "lreg.score(x_test,true_p)"
   ]
  },
  {
   "cell_type": "code",
   "execution_count": 71,
   "id": "321de05e",
   "metadata": {},
   "outputs": [
    {
     "data": {
      "text/plain": [
       "0.6497749430502584"
      ]
     },
     "execution_count": 71,
     "metadata": {},
     "output_type": "execute_result"
    }
   ],
   "source": [
    "lreg.score(x_train,y_train)  #performance"
   ]
  },
  {
   "cell_type": "code",
   "execution_count": 73,
   "id": "c0da2cb4",
   "metadata": {},
   "outputs": [
    {
     "data": {
      "text/plain": [
       "1255.3378501954394"
      ]
     },
     "execution_count": 73,
     "metadata": {},
     "output_type": "execute_result"
    }
   ],
   "source": [
    "rmse_test= np.sqrt(np.mean(np.power((np.array(true_p)-np.array(pred)),2)))\n",
    "rmse_test"
   ]
  },
  {
   "cell_type": "code",
   "execution_count": 74,
   "id": "cc80d304",
   "metadata": {},
   "outputs": [
    {
     "data": {
      "text/plain": [
       "1013.0020828572978"
      ]
     },
     "execution_count": 74,
     "metadata": {},
     "output_type": "execute_result"
    }
   ],
   "source": [
    "rmse_train= np.sqrt(np.mean(np.power((np.array(y_train)-np.array(lreg.predict(x_train))),2)))\n",
    "rmse_train"
   ]
  },
  {
   "cell_type": "code",
   "execution_count": null,
   "id": "a20e9243",
   "metadata": {},
   "outputs": [],
   "source": []
  }
 ],
 "metadata": {
  "kernelspec": {
   "display_name": "Python 3 (ipykernel)",
   "language": "python",
   "name": "python3"
  },
  "language_info": {
   "codemirror_mode": {
    "name": "ipython",
    "version": 3
   },
   "file_extension": ".py",
   "mimetype": "text/x-python",
   "name": "python",
   "nbconvert_exporter": "python",
   "pygments_lexer": "ipython3",
   "version": "3.8.11"
  }
 },
 "nbformat": 4,
 "nbformat_minor": 5
}
